{
  "nbformat": 4,
  "nbformat_minor": 0,
  "metadata": {
    "colab": {
      "name": "extract_word.ipynb",
      "provenance": [],
      "collapsed_sections": [],
      "toc_visible": true,
      "authorship_tag": "ABX9TyMtDfgHGtiLLirB0mRLYOIj",
      "include_colab_link": true
    },
    "kernelspec": {
      "name": "python3",
      "display_name": "Python 3"
    },
    "language_info": {
      "name": "python"
    }
  },
  "cells": [
    {
      "cell_type": "markdown",
      "metadata": {
        "id": "view-in-github",
        "colab_type": "text"
      },
      "source": [
        "<a href=\"https://colab.research.google.com/github/piyawangsa1970/tipitaka/blob/main/extract_word.ipynb\" target=\"_parent\"><img src=\"https://colab.research.google.com/assets/colab-badge.svg\" alt=\"Open In Colab\"/></a>"
      ]
    },
    {
      "cell_type": "markdown",
      "source": [
        "functions\n",
        "1.   remove_nonePali( ) นำอักขระอื่นออก เว้นอักขระบาลี  \n",
        "2.   encode(word) เข้ารหัส  กำหนดดังนี้\n",
        "\n",
        "\n",
        "\n",
        "> - พยัญชนะไม่มีจุด\n",
        "- สระ [อ,อา,อิ,อี,อุ,อู,เอ,โอ] แทน ด้วยตัวเลข [1,2,3,4,5,6,7,8]\n",
        "- นิคคหิต แทน ด้วย [ง]  \n",
        "\n",
        "\n",
        "3.   decode(wordCode ) ถอดรหัส\n",
        "\n",
        "\n",
        "\n",
        "\n",
        "\n",
        "\n"
      ],
      "metadata": {
        "id": "pPZfg4caD7Ch"
      }
    },
    {
      "cell_type": "code",
      "source": [
        "#@title\n",
        "def remove_nonePali(word):   # เหลือเพียงอักขระบาลีเท่านั้น\n",
        "    augkarani = 'กขคฆงจฉชฌญฏฐฑฒณตถทธนปผพภมยรลวสหฬอ\\u0E32u\\u0E34\\u0E35\\u0E38\\u0E39\\u0E3A\\u0E40\\u0E42\\u0E4D'\n",
        "    value = ''\n",
        "    for w in word:\n",
        "      if w in augkarani:\n",
        "        value += w\n",
        "    return value"
      ],
      "metadata": {
        "cellView": "form",
        "id": "lSxyXGmEuHkm"
      },
      "execution_count": null,
      "outputs": []
    },
    {
      "cell_type": "code",
      "source": [
        "#@title\n",
        "def encode(pali):  # จัดเรียงอักขระ โดยวางพยัญชนะไว้หน้าสระ\n",
        "    pintu = '\\u0E3A'\n",
        "    ang = '\\u0E4D'\n",
        "    pali = remove_nonePali(pali) + '????'\n",
        "    res = ''\n",
        "    i = 0\n",
        "    while i < len(pali)-4:\n",
        "      w = pali[i:i+4]\n",
        "      if (w[0]== 'เ' or w[0] == 'โ') and w[1] != 'อ':\n",
        "        if w[2] != pintu: # ตุมฺเห ทฺเว\n",
        "          res += w[1]+pintu+w[0]+'อ'\n",
        "          i+=2\n",
        "        else: # ตุเมฺห เทฺว | คเณฺหยฺย ณ pintu  ห pintu เ\n",
        "          res += w[1]+w[2]+w[3]+pintu+w[0]+'อ'\n",
        "          i+=4\n",
        "      elif (w[0] >='ก' and w[0]<='ฬ') and w[1] != pintu:\n",
        "        res += w[0]+pintu+'อ'\n",
        "        i+=1\n",
        "      elif w[0] == ang and pali[-1] != 'อ':  # สํโฆ  สงฺโฆ\n",
        "        res += 'งฺ'\n",
        "        i+=1\n",
        "      else:\n",
        "        res += w[0]\n",
        "        i+=1\n",
        "        \n",
        "    vowel = [\"อา\",\"อิ\",\"อี\",\"อุ\",\"อู\",\"เอ\",\"โอ\",\"อ\",pintu]\n",
        "    num = [\"2\",\"3\",\"4\",\"5\",\"6\",\"7\",\"8\",\"1\",\"\"]\n",
        "    for i in range(9):\n",
        "      res=res.replace(vowel[i],num[i])\n",
        "    return res"
      ],
      "metadata": {
        "cellView": "form",
        "id": "THRz6xhguKn8"
      },
      "execution_count": null,
      "outputs": []
    },
    {
      "cell_type": "code",
      "source": [
        "#@title\n",
        "def decode(paliCode):\n",
        "    pintu = '\\u0E3A'\n",
        "    ang = '\\u0E4D'\n",
        "    vowel = [\"\", \"\",\"\\u0E32\",\"\\u0E34\",\"\\u0E35\",\"\\u0E38\",\"\\u0E39\", \"\\u0E40\",\"\\u0E42\"]  # อา อิ อี อุ อู  เอ โอ\n",
        "    res = ''\n",
        "    w = paliCode + 'ออ'\n",
        "    i = 0\n",
        "    while i < len(w)-2:\n",
        "      w0 = w[i]\n",
        "      w1 = w[i+1]\n",
        "      w2 = w[i+2]\n",
        "      if w0 == 'ง':\n",
        "        if w1 > 'ม':\n",
        "          res += ang\n",
        "        else:\n",
        "          res += 'ง'\n",
        "        i+=1\n",
        "      \n",
        "      elif w0 > '8':\n",
        "          if w1 > '8':\n",
        "            res += w0+pintu\n",
        "            i+=1\n",
        "          else:\n",
        "            if w1 == \"1\" :\n",
        "              res +=  w0\n",
        "            elif w1 < \"7\":\n",
        "              res += w0 + vowel[int(w1)]\n",
        "            elif w1 < \"ก\":\n",
        "              res += vowel[int(w1)] + w0\n",
        "            i+=2\n",
        "      \n",
        "      else:\n",
        "        if w0 == \"1\" :\n",
        "          res += 'อ'\n",
        "        elif w0 < \"7\":\n",
        "          res += 'อ' + vowel[int(w0)]\n",
        "        else:\n",
        "          res += vowel[int(w0)] + 'อ'\n",
        "        i+=1\n",
        "  \n",
        "    return res\n"
      ],
      "metadata": {
        "id": "vi6c-7rauyfJ",
        "cellView": "form"
      },
      "execution_count": null,
      "outputs": []
    },
    {
      "cell_type": "code",
      "source": [
        "#@title\n",
        "pali = PaliWord()\n",
        "print (pali.encode('คเณฺหยฺย'))\n",
        "print (pali.decode('ค1ณห7ยย1'))"
      ],
      "metadata": {
        "id": "HCVHaVmFnyV8",
        "cellView": "form"
      },
      "execution_count": null,
      "outputs": []
    },
    {
      "cell_type": "markdown",
      "source": [
        "getUnigueWord() \n",
        "\n",
        "\n",
        "> - นำคำพูดทั้งหมดออกมา คำที่ซ้ำตัดออก  โดยในที่นี้เอามาจาก พระไตรปิฏกฉบับ ธรรมทาน\n",
        "- นำคำที่ได้ทั้งหมดไปเก็บไว้ที่ github โดยเก็บเป็น text มีช่องว่างระหว่างคำ"
      ],
      "metadata": {
        "id": "i1y3AW3yrx6p"
      }
    },
    {
      "cell_type": "code",
      "source": [
        "numBook=''\n",
        "words=set()\n",
        "for series in range(1,46):\n",
        "  if series < 10:\n",
        "    numBook = \"0\"+str(series)\n",
        "  else:\n",
        "    numBook = str(series)\n",
        "  fname = '/content/drive/MyDrive/pali/tipitaga_pure_txt/tipitaga_pali_'+numBook+'.txt'\n",
        "  file = open(fname, \"r\")\n",
        "  lines = file.readlines()\n",
        "  i = 1\n",
        "  for line in lines:\n",
        "    wordsLine = line.split(' ')\n",
        "    for word in wordsLine:\n",
        "      try:\n",
        "        word = encode(word)\n",
        "      except:\n",
        "        print(word)\n",
        "      if(word):\n",
        "        words.add(word)\n",
        "  file.close()\n",
        "  paliCode = list(sorted(words))"
      ],
      "metadata": {
        "id": "bxJXRmwKtaZP"
      },
      "execution_count": null,
      "outputs": []
    }
  ]
}